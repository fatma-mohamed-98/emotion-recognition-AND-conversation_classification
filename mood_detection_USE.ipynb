{
  "nbformat": 4,
  "nbformat_minor": 0,
  "metadata": {
    "colab": {
      "name": "USE__optimized.ipynb",
      "provenance": [],
      "collapsed_sections": []
    },
    "kernelspec": {
      "display_name": "Python 3",
      "name": "python3"
    },
    "language_info": {
      "name": "python"
    }
  },
  "cells": [
    {
      "cell_type": "code",
      "metadata": {
        "colab": {
          "base_uri": "https://localhost:8080/"
        },
        "id": "xwRe1Y4leZNc",
        "outputId": "8c06e843-0ae1-4acb-f266-a4030bcb7361"
      },
      "source": [
        "from google.colab import drive\n",
        "drive.mount('/content/drive')"
      ],
      "execution_count": null,
      "outputs": [
        {
          "output_type": "stream",
          "text": [
            "Go to this URL in a browser: https://accounts.google.com/o/oauth2/auth?client_id=947318989803-6bn6qk8qdgf4n4g3pfee6491hc0brc4i.apps.googleusercontent.com&redirect_uri=urn%3aietf%3awg%3aoauth%3a2.0%3aoob&scope=email%20https%3a%2f%2fwww.googleapis.com%2fauth%2fdocs.test%20https%3a%2f%2fwww.googleapis.com%2fauth%2fdrive%20https%3a%2f%2fwww.googleapis.com%2fauth%2fdrive.photos.readonly%20https%3a%2f%2fwww.googleapis.com%2fauth%2fpeopleapi.readonly%20https%3a%2f%2fwww.googleapis.com%2fauth%2fdrive.activity.readonly%20https%3a%2f%2fwww.googleapis.com%2fauth%2fexperimentsandconfigs%20https%3a%2f%2fwww.googleapis.com%2fauth%2fphotos.native&response_type=code\n",
            "\n",
            "Enter your authorization code:\n",
            "4/1AX4XfWihsd035KiWz1fvNh6czWYAqSgRIMn1qwFHg-ae06o91smN0LdZssI\n",
            "Mounted at /content/drive\n"
          ],
          "name": "stdout"
        }
      ]
    },
    {
      "cell_type": "code",
      "metadata": {
        "id": "R4a6Uav0NMbo"
      },
      "source": [
        "import pandas as pd\n",
        "from sklearn.utils import shuffle\n",
        "from tqdm import tqdm\n",
        "import pandas as pd \n",
        "import numpy as np\n",
        "import re\n",
        "from sklearn.model_selection import train_test_split"
      ],
      "execution_count": null,
      "outputs": []
    },
    {
      "cell_type": "markdown",
      "metadata": {
        "id": "DGLzPgb9wnDR"
      },
      "source": [
        "# Data preprocessing"
      ]
    },
    {
      "cell_type": "code",
      "metadata": {
        "id": "YGPhBjMUWC54"
      },
      "source": [
        "df = pd.read_pickle('/content/drive/MyDrive/GP_Chatbot_Dataset/daily_dialoge/data.pickle')\n",
        "# all_filenames = [\"/content/drive/MyDrive/GP_Chatbot_Dataset/neg.csv\" , \"/content/drive/MyDrive/GP_Chatbot_Dataset/pos.csv\"]\n",
        "# df = pd.concat([pd.read_csv(f) for f in all_filenames ]) [['sentence','class']]\n",
        "# df = shuffle(df)\n",
        "\n",
        "# for i in tqdm(range(df.shape[0])):\n",
        "#     df.iloc[i]['sentence'] = df.iloc[i]['sentence'].replace('_comma_',',')"
      ],
      "execution_count": null,
      "outputs": []
    },
    {
      "cell_type": "code",
      "metadata": {
        "colab": {
          "base_uri": "https://localhost:8080/",
          "height": 198
        },
        "id": "gI9phBbDmc5R",
        "outputId": "396da64d-256e-4bc6-b601-d094959751b9"
      },
      "source": [
        "df.head()"
      ],
      "execution_count": null,
      "outputs": [
        {
          "output_type": "execute_result",
          "data": {
            "text/html": [
              "<div>\n",
              "<style scoped>\n",
              "    .dataframe tbody tr th:only-of-type {\n",
              "        vertical-align: middle;\n",
              "    }\n",
              "\n",
              "    .dataframe tbody tr th {\n",
              "        vertical-align: top;\n",
              "    }\n",
              "\n",
              "    .dataframe thead th {\n",
              "        text-align: right;\n",
              "    }\n",
              "</style>\n",
              "<table border=\"1\" class=\"dataframe\">\n",
              "  <thead>\n",
              "    <tr style=\"text-align: right;\">\n",
              "      <th></th>\n",
              "      <th>sentence</th>\n",
              "      <th>action</th>\n",
              "      <th>emotion</th>\n",
              "    </tr>\n",
              "  </thead>\n",
              "  <tbody>\n",
              "    <tr>\n",
              "      <th>0</th>\n",
              "      <td>The kitchen stinks .</td>\n",
              "      <td>3</td>\n",
              "      <td>2</td>\n",
              "    </tr>\n",
              "    <tr>\n",
              "      <th>1</th>\n",
              "      <td>I'll throw out the garbage .</td>\n",
              "      <td>4</td>\n",
              "      <td>0</td>\n",
              "    </tr>\n",
              "    <tr>\n",
              "      <th>2</th>\n",
              "      <td>\\n</td>\n",
              "      <td>\\n</td>\n",
              "      <td>\\n</td>\n",
              "    </tr>\n",
              "    <tr>\n",
              "      <th>3</th>\n",
              "      <td>So Dick , how about getting some coffee for to...</td>\n",
              "      <td>3</td>\n",
              "      <td>4</td>\n",
              "    </tr>\n",
              "    <tr>\n",
              "      <th>4</th>\n",
              "      <td>Coffee ? I don ’ t honestly like that kind of...</td>\n",
              "      <td>4</td>\n",
              "      <td>2</td>\n",
              "    </tr>\n",
              "  </tbody>\n",
              "</table>\n",
              "</div>"
            ],
            "text/plain": [
              "                                            sentence action emotion\n",
              "0                              The kitchen stinks .       3       2\n",
              "1                      I'll throw out the garbage .       4       0\n",
              "2                                                 \\n     \\n      \\n\n",
              "3  So Dick , how about getting some coffee for to...      3       4\n",
              "4   Coffee ? I don ’ t honestly like that kind of...      4       2"
            ]
          },
          "metadata": {
            "tags": []
          },
          "execution_count": 12
        }
      ]
    },
    {
      "cell_type": "markdown",
      "metadata": {
        "id": "FBxgkWGtnExe"
      },
      "source": [
        "#### combine classes"
      ]
    },
    {
      "cell_type": "code",
      "metadata": {
        "id": "-IVaxvzomqp7",
        "colab": {
          "base_uri": "https://localhost:8080/"
        },
        "outputId": "3a035b4e-845f-41c8-874a-2a52f71125e7"
      },
      "source": [
        "data = df\n",
        "for i in tqdm(range(data.shape[0])):\n",
        "    intent = data['emotion'].iloc[i]\n",
        "    if intent == '0':\n",
        "        data['emotion'].iloc[i] = 'neutral'\n",
        "    elif intent == '1':\n",
        "        data['emotion'].iloc[i] = 'angry'\n",
        "    elif intent == '2':\n",
        "        data['emotion'].iloc[i] = 'disgust'\n",
        "    elif intent == '3':\n",
        "        data['emotion'].iloc[i] = 'fear'\n",
        "    elif intent == '4':\n",
        "        data['emotion'].iloc[i] = 'happy'\n",
        "    elif intent == '5':\n",
        "        data['emotion'].iloc[i] = 'sad'\n",
        "    elif intent == '6':\n",
        "        data['emotion'].iloc[i]= 'surprise'\n",
        "    elif intent == '\\n':\n",
        "        data['emotion'].iloc[i]= 'end'    \n",
        "data = data[data['emotion'] != 'disgust'] \n",
        "data = data[data['emotion'] != 'end'] \n",
        "\n",
        "# for i in tqdm(range(data.shape[0])):\n",
        "#     intent = data['class'].iloc[i]\n",
        "#     if((intent == 'afraid') or (intent == 'terrified') or (intent == 'anxious')):\n",
        "#         data['class'].iloc[i] = 'afraid'\n",
        "  \n",
        "\n",
        "# data = data[data['class'] != 'grateful'] \n",
        "# data = data[data['class'] != 'devastated']  \n",
        "# data = data[data['class'] != 'content'] \n",
        "    \n",
        "# data = data[data['class'] != 'anxious']    \n",
        "# data = data[data['class'] != 'impressed']\n",
        "# data = data[data['class'] != 'surprised']\n",
        "# data = data[data['class'] != 'apprehensive']\n",
        "\n",
        "# data = data[data['class'] != 'jealous'] \n",
        "# data = data[data['class'] != 'embarrassed'] \n",
        "# data = data[data['class'] != 'guilty']\n",
        "# data = data[data['class'] != 'ashamed'] \n",
        "\n",
        "# data = data[data['class'] != 'anticipating'] \n",
        "# data = data[data['class'] != 'confident']  \n",
        "# data = data[data['class'] != 'prepared']  \n",
        "# data = data[data['class'] != 'trusting']  \n",
        "# data = data[data['class'] != 'hopeful']\n",
        "# data = data[data['class'] != 'caring']    \n"
      ],
      "execution_count": null,
      "outputs": [
        {
          "output_type": "stream",
          "text": [
            " 41%|████      | 47186/116085 [00:27<00:39, 1762.64it/s]"
          ],
          "name": "stderr"
        }
      ]
    },
    {
      "cell_type": "code",
      "metadata": {
        "id": "k2D8M3SlpJF1"
      },
      "source": [
        "print(len(data)) \n",
        "data.head()\n"
      ],
      "execution_count": null,
      "outputs": []
    },
    {
      "cell_type": "code",
      "metadata": {
        "id": "z8zrCFL723Tz"
      },
      "source": [
        "X_train, X_test, y_train, y_test = train_test_split(data['sentence'], data['emotion'], test_size=0.1, random_state=37)"
      ],
      "execution_count": null,
      "outputs": []
    },
    {
      "cell_type": "code",
      "metadata": {
        "id": "HJmgjfu_vNoa"
      },
      "source": [
        "import numpy as np\n",
        "from sklearn import preprocessing\n",
        "\n",
        "lb = preprocessing.LabelBinarizer()\n",
        "lb.fit(data['emotion'])\n",
        "train_labels = lb.transform(y_train)\n",
        "test_labels = lb.transform(y_test)\n",
        "\n",
        "print(train_labels)\n",
        "train_data = data['sentence']\n",
        "print(train_data.shape)\n",
        "print(train_labels.shape)"
      ],
      "execution_count": null,
      "outputs": []
    },
    {
      "cell_type": "code",
      "metadata": {
        "id": "h3s4SBdBu1Ek"
      },
      "source": [
        "classes = list(set(data['emotion']))\n",
        "classes.sort()\n",
        "num_classes = len(classes)\n",
        "print('num_classes', num_classes)\n",
        "print(classes)"
      ],
      "execution_count": null,
      "outputs": []
    },
    {
      "cell_type": "markdown",
      "metadata": {
        "id": "f7ZVF3m44k0a"
      },
      "source": [
        "# MODEL"
      ]
    },
    {
      "cell_type": "code",
      "metadata": {
        "id": "1vRz5S06xvD8"
      },
      "source": [
        "import tensorflow as tf\n",
        "import tensorflow_hub as hub\n",
        "# from tensorflow.keras.optimizers import Adam, SGD\n",
        "# from tensorflow.keras.layers import Dense, Input, BatchNormalization, Dropout, Concatenate\n",
        "# from tensorflow.keras.models import Model, Sequential\n",
        "from tensorflow.keras.callbacks import ModelCheckpoint\n",
        "\n",
        "!pip install mtranslate\n",
        "from mtranslate import translate\n",
        "\n",
        "pd.set_option('display.max_colwidth', None)\n"
      ],
      "execution_count": null,
      "outputs": []
    },
    {
      "cell_type": "code",
      "metadata": {
        "id": "e4nTJ7YRv_40"
      },
      "source": [
        "# Basic packages\n",
        "import collections\n",
        "import matplotlib.pyplot as plt\n",
        "from pathlib import Path\n",
        "# Packages for data preparation\n",
        "from sklearn.model_selection import train_test_split\n",
        "from keras.utils.np_utils import to_categorical\n",
        "from sklearn.preprocessing import LabelEncoder\n",
        "# Packages for modeling\n",
        "from keras import models\n",
        "from keras import layers\n",
        "from keras import regularizers\n",
        "\n",
        "NB_START_EPOCHS = 20  # Number of epochs we usually start to train with\n",
        "BATCH_SIZE = 512  # Size of the batches used in the mini-batch gradient descent\n"
      ],
      "execution_count": null,
      "outputs": []
    },
    {
      "cell_type": "markdown",
      "metadata": {
        "id": "kBfw5C8E8dED"
      },
      "source": [
        "# Used functions"
      ]
    },
    {
      "cell_type": "code",
      "metadata": {
        "id": "nh7CkhY8Pfj3"
      },
      "source": [
        "def eval_metric(model, history, metric_name,model_nam):\n",
        "\n",
        "    metric = history.history[metric_name]\n",
        "    val_metric = history.history['val_' + metric_name]\n",
        "    e = range(1, NB_START_EPOCHS + 1)\n",
        "    plt.plot(e, metric, 'bo', label='Train ' + metric_name)\n",
        "    plt.plot(e, val_metric, 'b', label='Validation ' + metric_name)\n",
        "    plt.xlabel('Epoch number')\n",
        "    plt.ylabel(metric_name)\n",
        "    plt.title('Comparing training and validation ' + metric_name+' ' +model_nam)\n",
        "    plt.legend()\n",
        "    plt.show()\n",
        "\n",
        "def test_model(model, X_train, y_train, X_test, y_test, epoch_stop):\n",
        "    model.fit(X_train\n",
        "              , y_train\n",
        "              , epochs=epoch_stop\n",
        "              , batch_size=BATCH_SIZE\n",
        "              , verbose=0)\n",
        "    results = model.evaluate(X_test, y_test)\n",
        "    print()\n",
        "    print('Test accuracy: {0:.2f}%'.format(results[1]*100))\n",
        "    return results  \n",
        "\n",
        "def compare_models_by_metric(model_1, model_2, model_hist_1, model_hist_2, metric):\n",
        "    metric_model_1 = model_hist_1.history[metric]\n",
        "    metric_model_2 = model_hist_2.history[metric]\n",
        "    e = range(1, NB_START_EPOCHS + 1)\n",
        "    \n",
        "    metrics_dict = {\n",
        "        'acc' : 'Training Accuracy',\n",
        "        'loss' : 'Training Loss',\n",
        "        'val_acc' : 'Validation accuracy',\n",
        "        'val_loss' : 'Validation loss'\n",
        "    }\n",
        "    \n",
        "    metric_label = metrics_dict[metric]\n",
        "    plt.plot(e, metric_model_1, 'bo', label=model_1.name)\n",
        "    plt.plot(e, metric_model_2, 'b', label=model_2.name)\n",
        "    plt.xlabel('Epoch number')\n",
        "    plt.ylabel(metric_label)\n",
        "    plt.title('Comparing ' + metric_label + ' between models')\n",
        "    plt.legend()\n",
        "    plt.show()\n",
        "\n",
        "def optimal_epoch(model_hist):\n",
        "    min_epoch = np.argmin(model_hist.history['val_loss']) + 1\n",
        "    print(\"Minimum validation loss reached in epoch {}\".format(min_epoch))\n",
        "    return min_epoch    \n",
        "          "
      ],
      "execution_count": null,
      "outputs": []
    },
    {
      "cell_type": "code",
      "metadata": {
        "colab": {
          "base_uri": "https://localhost:8080/"
        },
        "id": "CN2Qg9mRwwqJ",
        "outputId": "d34328da-c6e3-4a7a-8504-1107b2d33faa"
      },
      "source": [
        "%%time\n",
        "module_url = 'https://tfhub.dev/google/universal-sentence-encoder-large/5'\n",
        "embed = hub.KerasLayer(module_url, trainable=True, name='USE_embedding')"
      ],
      "execution_count": null,
      "outputs": [
        {
          "output_type": "stream",
          "text": [
            "CPU times: user 16.8 s, sys: 1.96 s, total: 18.8 s\n",
            "Wall time: 18 s\n"
          ],
          "name": "stdout"
        }
      ]
    },
    {
      "cell_type": "markdown",
      "metadata": {
        "id": "JA0MwZdcfySr"
      },
      "source": [
        "# Reducing the network’s capacity"
      ]
    },
    {
      "cell_type": "code",
      "metadata": {
        "id": "oMVKZxwNxnGV"
      },
      "source": [
        "def get_reduced_model(module_url):\n",
        "    model = tf.keras.Sequential([\n",
        "    \n",
        "        hub.KerasLayer(module_url, input_shape=[],dtype=tf.string, trainable=False),\n",
        "        layers.Dense(32, activation='relu'),\n",
        "        layers.Dense(num_classes, activation='softmax')\n",
        "    ])\n",
        "    return(model)\n",
        "Reduced_model = get_reduced_model(module_url) \n",
        "Reduced_model.compile(optimizer='rmsprop'\n",
        "                  , loss='categorical_crossentropy'\n",
        "                  , metrics=['accuracy'])\n",
        "Reduced_history = Reduced_model.fit(X_train\n",
        "                       ,train_labels\n",
        "                       ,validation_split=0.30\n",
        "                       ,epochs=NB_START_EPOCHS\n",
        "                       , batch_size=BATCH_SIZE\n",
        "                       , verbose=0)   "
      ],
      "execution_count": null,
      "outputs": []
    },
    {
      "cell_type": "code",
      "metadata": {
        "colab": {
          "base_uri": "https://localhost:8080/",
          "height": 313
        },
        "id": "VAYUo-20XbEl",
        "outputId": "6f42d1f7-7dcb-42e0-8a88-08b33ec3eae9"
      },
      "source": [
        "reduced_min = optimal_epoch(Reduced_history)\n",
        "eval_metric(Reduced_model, Reduced_history, 'accuracy', ' after reducing the number of element in hidden layer')"
      ],
      "execution_count": null,
      "outputs": [
        {
          "output_type": "stream",
          "text": [
            "Minimum validation loss reached in epoch 20\n"
          ],
          "name": "stdout"
        },
        {
          "output_type": "display_data",
          "data": {
            "image/png": "[encoded data removed]",
            "text/plain": [
              "<Figure size 432x288 with 1 Axes>"
            ]
          },
          "metadata": {
            "tags": [],
            "needs_background": "light"
          }
        }
      ]
    },
    {
      "cell_type": "markdown",
      "metadata": {
        "id": "yowngtJVnKzL"
      },
      "source": [
        "# Adding dropout layers\n",
        "#### A Dropout layer will randomly set output features of a layer to zero."
      ]
    },
    {
      "cell_type": "code",
      "metadata": {
        "id": "9LjC1qz9m8P3"
      },
      "source": [
        "def get_Dropout_model(module_url):\n",
        "    model = tf.keras.Sequential([\n",
        "    \n",
        "        hub.KerasLayer(module_url, input_shape=[],dtype=tf.string, trainable=False),\n",
        "        layers.Dropout(0.5),\n",
        "        layers.Dense(32, activation='relu'),\n",
        "        layers.Dropout(0.2),\n",
        "        layers.Dense(num_classes, activation='softmax')\n",
        "    ])\n",
        "    return(model)\n",
        "drop_model = get_Dropout_model(module_url) \n",
        "drop_model.compile(optimizer='adam'\n",
        "                  , loss='categorical_crossentropy'\n",
        "                  , metrics=['accuracy'])\n",
        "drop_history = drop_model.fit(X_train\n",
        "                       ,train_labels\n",
        "                       ,validation_split=0.30\n",
        "                       ,epochs=NB_START_EPOCHS\n",
        "                       , batch_size=BATCH_SIZE\n",
        "                       , verbose=0)   "
      ],
      "execution_count": null,
      "outputs": []
    },
    {
      "cell_type": "code",
      "metadata": {
        "colab": {
          "base_uri": "https://localhost:8080/",
          "height": 313
        },
        "id": "j7kwb9rwpzpn",
        "outputId": "691c157a-1d80-416e-87b3-c894e6c7c100"
      },
      "source": [
        "drop_min = optimal_epoch(drop_history)\n",
        "eval_metric(drop_model, drop_history, 'accuracy', ' after adding dropout layer')"
      ],
      "execution_count": null,
      "outputs": [
        {
          "output_type": "stream",
          "text": [
            "Minimum validation loss reached in epoch 60\n"
          ],
          "name": "stdout"
        },
        {
          "output_type": "display_data",
          "data": {
            "image/png": "[encoded data removed]",
            "text/plain": [
              "<Figure size 432x288 with 1 Axes>"
            ]
          },
          "metadata": {
            "tags": [],
            "needs_background": "light"
          }
        }
      ]
    },
    {
      "cell_type": "markdown",
      "metadata": {
        "id": "ZEJ_kZGvBZ30"
      },
      "source": [
        "# Applying regularization\n",
        "#### try with L2 regularization."
      ]
    },
    {
      "cell_type": "code",
      "metadata": {
        "id": "cQktBZtQ_im_"
      },
      "source": [
        "def get_reg_model(module_url):\n",
        "    model = tf.keras.Sequential([\n",
        "        hub.KerasLayer(module_url, input_shape=[],dtype=tf.string, trainable=False),\n",
        "        layers.Dense(64, kernel_regularizer=regularizers.l2(0.001), activation='relu'),\n",
        "        layers.Dense(32, kernel_regularizer=regularizers.l2(0.001), activation='relu'),\n",
        "        layers.Dense(num_classes, activation='softmax')\n",
        "    ])\n",
        "    return(model)\n",
        "reg_model = get_reg_model(module_url) \n",
        "reg_model.compile(optimizer='rmsprop'\n",
        "                  , loss='categorical_crossentropy'\n",
        "                  , metrics=['accuracy'])\n",
        "reg_history = reg_model.fit(X_train\n",
        "                       ,train_labels\n",
        "                       ,validation_split=0.30\n",
        "                       ,epochs=NB_START_EPOCHS\n",
        "                       , batch_size=BATCH_SIZE\n",
        "                       , verbose=0)   \n"
      ],
      "execution_count": null,
      "outputs": []
    },
    {
      "cell_type": "code",
      "metadata": {
        "id": "CUcjiwWo_iWS",
        "colab": {
          "base_uri": "https://localhost:8080/",
          "height": 313
        },
        "outputId": "c011e8b2-8cea-4f90-b386-2158fc71cf41"
      },
      "source": [
        "reg_min = optimal_epoch(reg_history)\n",
        "eval_metric(reg_model, reg_history, 'accuracy', 'for model with regularization')"
      ],
      "execution_count": null,
      "outputs": [
        {
          "output_type": "stream",
          "text": [
            "Minimum validation loss reached in epoch 24\n"
          ],
          "name": "stdout"
        },
        {
          "output_type": "display_data",
          "data": {
            "image/png": "[encoded data removed]",
            "text/plain": [
              "<Figure size 432x288 with 1 Axes>"
            ]
          },
          "metadata": {
            "tags": [],
            "needs_background": "light"
          }
        }
      ]
    },
    {
      "cell_type": "code",
      "metadata": {
        "id": "BOpy99Gp_iK0"
      },
      "source": [
        ""
      ],
      "execution_count": null,
      "outputs": []
    },
    {
      "cell_type": "code",
      "metadata": {
        "id": "sQ88ZoXD_h7y",
        "colab": {
          "base_uri": "https://localhost:8080/"
        },
        "outputId": "888a1242-7358-41ac-f2ca-6239683781a2"
      },
      "source": [
        "reg_results = test_model(reg_model, X_train, train_labels, X_test, test_labels, reg_min)"
      ],
      "execution_count": null,
      "outputs": [
        {
          "output_type": "stream",
          "text": [
            "307/307 [==============================] - 12s 38ms/step - loss: 2.0202 - accuracy: 0.3541\n",
            "\n",
            "Test accuracy: 35.41%\n"
          ],
          "name": "stdout"
        }
      ]
    },
    {
      "cell_type": "code",
      "metadata": {
        "colab": {
          "base_uri": "https://localhost:8080/"
        },
        "id": "mCVbOTUgp9AD",
        "outputId": "76ce959e-5907-4004-fdca-aaa4aee2f721"
      },
      "source": [
        "\n",
        "reduced_results = test_model(Reduced_model, X_train, train_labels, X_test, test_labels, reduced_min)\n",
        "\n",
        "# drop_results = test_model(drop_model, X_train, train_labels, X_test, test_labels, drop_min)"
      ],
      "execution_count": null,
      "outputs": [
        {
          "output_type": "stream",
          "text": [
            "321/321 [==============================] - 12s 39ms/step - loss: 0.3683 - accuracy: 0.8707\n",
            "\n",
            "Test accuracy: 87.07%\n"
          ],
          "name": "stdout"
        }
      ]
    },
    {
      "cell_type": "code",
      "metadata": {
        "id": "O_2FVGTx3d6P",
        "colab": {
          "base_uri": "https://localhost:8080/"
        },
        "outputId": "849a11a1-6db9-4d3c-9f9e-f7945b779ab2"
      },
      "source": [
        "Reduced_model.save('/content/drive/MyDrive/GP_Chatbot_Dataset/Ddialoge_models/USE_reduced_model')"
      ],
      "execution_count": null,
      "outputs": [
        {
          "output_type": "stream",
          "text": [
            "WARNING:absl:Found untraced functions such as dense_30_layer_call_and_return_conditional_losses, dense_30_layer_call_fn, dense_31_layer_call_and_return_conditional_losses, dense_31_layer_call_fn, dense_30_layer_call_fn while saving (showing 5 of 10). These functions will not be directly callable after loading.\n"
          ],
          "name": "stderr"
        },
        {
          "output_type": "stream",
          "text": [
            "INFO:tensorflow:Assets written to: /content/drive/MyDrive/GP_Chatbot_Dataset/Ddialoge_models/USE_reduced_model/assets\n"
          ],
          "name": "stdout"
        },
        {
          "output_type": "stream",
          "text": [
            "INFO:tensorflow:Assets written to: /content/drive/MyDrive/GP_Chatbot_Dataset/Ddialoge_models/USE_reduced_model/assets\n"
          ],
          "name": "stderr"
        }
      ]
    },
    {
      "cell_type": "code",
      "metadata": {
        "id": "uk3Gkylw3dot"
      },
      "source": [
        "loaded = models.load_model('/content/drive/MyDrive/GP_Chatbot_Dataset/Ddialoge_models/USE_reduced_model')"
      ],
      "execution_count": null,
      "outputs": []
    },
    {
      "cell_type": "code",
      "metadata": {
        "id": "0u8Aw-p35YKa"
      },
      "source": [
        "loaded_results = test_model(loaded, X_train, train_labels, X_test, test_labels, 20)"
      ],
      "execution_count": null,
      "outputs": []
    },
    {
      "cell_type": "code",
      "metadata": {
        "id": "6P8GxClvcJoH"
      },
      "source": [
        "# model = tf.keras.models.load_model('/content/drive/MyDrive/GP_Chatbot_Dataset/models/USE_moodClassification.h5' , custom_objects={'KerasLayer': hub.KerasLayer})"
      ],
      "execution_count": null,
      "outputs": []
    },
    {
      "cell_type": "code",
      "metadata": {
        "id": "dmsfzYUrXEA2",
        "colab": {
          "base_uri": "https://localhost:8080/"
        },
        "outputId": "d62ce5c3-3923-4dba-8c39-c8e6b8f75486"
      },
      "source": [
        "import operator\n",
        "input_msg = \"ماما تعبانه\"\n",
        "input_msg = translate(input_msg ,'en')\n",
        "print(input_msg)\n",
        "test_pred = Reduced_model.predict([str(input_msg)])\n",
        "print(test_pred)\n",
        "\n",
        "max_index, max_value = max(enumerate(test_pred[0]), key=operator.itemgetter(1))\n",
        "print(max_index)\n",
        "if classes[max_index] == 'neutral':\n",
        "    test_pred[0].tolist().pop(max_index)\n",
        "    classes_new = classes\n",
        "    classes_new.pop(max_index)\n",
        "    max_index, max_value = max(enumerate(test_pred[0]), key=operator.itemgetter(1))\n",
        "    print(max_index)\n",
        "\n",
        "\n",
        "print('class: ',classes[max_index])"
      ],
      "execution_count": null,
      "outputs": [
        {
          "output_type": "stream",
          "text": [
            "Mama is tired\n",
            "[[6.9806853e-04 1.5711004e-03 2.0009656e-02 9.6299422e-01 1.3733068e-02\n",
            "  9.9391595e-04]]\n",
            "3\n",
            "class:  sad\n"
          ],
          "name": "stdout"
        }
      ]
    },
    {
      "cell_type": "code",
      "metadata": {
        "id": "WVctlYkeTkpr"
      },
      "source": [
        ""
      ],
      "execution_count": null,
      "outputs": []
    }
  ]
}