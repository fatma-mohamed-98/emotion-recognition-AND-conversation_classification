{
  "nbformat": 4,
  "nbformat_minor": 0,
  "metadata": {
    "accelerator": "GPU",
    "colab": {
      "name": "USEmood_binary_classifier.ipynbp",
      "provenance": [],
      "collapsed_sections": []
    },
    "kernelspec": {
      "display_name": "Python 3",
      "name": "python3"
    },
    "language_info": {
      "name": "python"
    }
  },
  "cells": [
    {
      "cell_type": "code",
      "metadata": {
        "id": "S6tRVCiPGcKE"
      },
      "source": [
        "import pandas as pd\n",
        "from sklearn.utils import shuffle\n",
        "\n",
        "import tensorflow as tf\n",
        "import tensorflow_hub as hub\n",
        "from tensorflow.keras.optimizers import Adam, SGD\n",
        "from tensorflow.keras.layers import Dense, Input, BatchNormalization, Dropout, Concatenate, Dropout\n",
        "from tensorflow.keras.models import Model, Sequential\n",
        "from tensorflow.keras.callbacks import ModelCheckpoint\n",
        "\n",
        "# !pip install mtranslate\n",
        "# from mtranslate import translate\n",
        "\n",
        "pd.set_option('display.max_colwidth', None)\n"
      ],
      "execution_count": null,
      "outputs": []
    },
    {
      "cell_type": "code",
      "metadata": {
        "colab": {
          "base_uri": "https://localhost:8080/"
        },
        "id": "oh8gI7VNGbl1",
        "outputId": "fa29d950-1da3-4452-fe18-c900f11edbb3"
      },
      "source": [
        "from google.colab import drive\n",
        "drive.mount('/content/drive')"
      ],
      "execution_count": null,
      "outputs": [
        {
          "name": "stdout",
          "output_type": "stream",
          "text": [
            "Mounted at /content/drive\n"
          ]
        }
      ]
    },
    {
      "cell_type": "code",
      "metadata": {
        "colab": {
          "base_uri": "https://localhost:8080/",
          "height": 216
        },
        "id": "pNgN4nReGH3r",
        "outputId": "fd8d41ad-1b6c-431d-d0fd-f03703754209"
      },
      "source": [
        "all_filenames = [\"/content/drive/MyDrive/GP_Chatbot_Dataset/neg.csv\" , \"/content/drive/MyDrive/GP_Chatbot_Dataset/pos.csv\"]\n",
        "combined_csv = pd.concat([pd.read_csv(f) for f in all_filenames ]) [['sentence','type']]\n",
        "combined_csv = combined_csv.dropna()\n",
        "train = combined_csv\n",
        "print(len(combined_csv ))\n",
        "\n",
        "from sklearn.utils import shuffle\n",
        "data = shuffle(combined_csv)\n",
        "# train_df = train_df[:10000]\n",
        "\n",
        "# all_filenames = pd.read_csv(\"/content/drive/MyDrive/GP_Chatbot_Dataset/neg.csv\")\n",
        "data.head()"
      ],
      "execution_count": null,
      "outputs": [
        {
          "name": "stdout",
          "output_type": "stream",
          "text": [
            "167931\n"
          ]
        },
        {
          "data": {
            "text/html": [
              "<div>\n",
              "<style scoped>\n",
              "    .dataframe tbody tr th:only-of-type {\n",
              "        vertical-align: middle;\n",
              "    }\n",
              "\n",
              "    .dataframe tbody tr th {\n",
              "        vertical-align: top;\n",
              "    }\n",
              "\n",
              "    .dataframe thead th {\n",
              "        text-align: right;\n",
              "    }\n",
              "</style>\n",
              "<table border=\"1\" class=\"dataframe\">\n",
              "  <thead>\n",
              "    <tr style=\"text-align: right;\">\n",
              "      <th></th>\n",
              "      <th>sentence</th>\n",
              "      <th>type</th>\n",
              "    </tr>\n",
              "  </thead>\n",
              "  <tbody>\n",
              "    <tr>\n",
              "      <th>77936</th>\n",
              "      <td>I try to do my best to follow the rules of the road both when I'm on my bike and in a car.</td>\n",
              "      <td>neg</td>\n",
              "    </tr>\n",
              "    <tr>\n",
              "      <th>50051</th>\n",
              "      <td>Very cool_comma_ I hope more people continue to recognize his talent and he gets the acclaim he deserves.</td>\n",
              "      <td>pos</td>\n",
              "    </tr>\n",
              "    <tr>\n",
              "      <th>44438</th>\n",
              "      <td>Then I looked back and thought about the starving kids in Antarctica.</td>\n",
              "      <td>neg</td>\n",
              "    </tr>\n",
              "    <tr>\n",
              "      <th>80991</th>\n",
              "      <td>I would definitely make digital copies and upload to a cloud or a disk in case something happens.</td>\n",
              "      <td>pos</td>\n",
              "    </tr>\n",
              "    <tr>\n",
              "      <th>10375</th>\n",
              "      <td>We were there for a week.</td>\n",
              "      <td>neg</td>\n",
              "    </tr>\n",
              "  </tbody>\n",
              "</table>\n",
              "</div>"
            ],
            "text/plain": [
              "                                                                                                        sentence type\n",
              "77936                 I try to do my best to follow the rules of the road both when I'm on my bike and in a car.  neg\n",
              "50051  Very cool_comma_ I hope more people continue to recognize his talent and he gets the acclaim he deserves.  pos\n",
              "44438                                      Then I looked back and thought about the starving kids in Antarctica.  neg\n",
              "80991          I would definitely make digital copies and upload to a cloud or a disk in case something happens.  pos\n",
              "10375                                                                                  We were there for a week.  neg"
            ]
          },
          "execution_count": 3,
          "metadata": {
            "tags": []
          },
          "output_type": "execute_result"
        }
      ]
    },
    {
      "cell_type": "code",
      "metadata": {
        "id": "keG0kou0_ybS"
      },
      "source": [
        "from sklearn.model_selection import train_test_split\n",
        "X_train, X_test, y_train, y_test = train_test_split(data['sentence'], data['type'], test_size=0.1, random_state=37)"
      ],
      "execution_count": null,
      "outputs": []
    },
    {
      "cell_type": "code",
      "metadata": {
        "colab": {
          "base_uri": "https://localhost:8080/"
        },
        "id": "xuP7laW_AFyO",
        "outputId": "db0a9f58-ba4c-42f8-ab7f-c89324e61513"
      },
      "source": [
        "import numpy as np\n",
        "from sklearn import preprocessing\n",
        "\n",
        "lb = preprocessing.LabelBinarizer()\n",
        "lb.fit(data['type'])\n",
        "train_labels = lb.transform(y_train)\n",
        "test_labels = lb.transform(y_test)\n",
        "\n",
        "\n",
        "\n",
        "print(train_labels)\n",
        "train_data = data['sentence']\n",
        "print(train_data.shape)\n",
        "print(train_labels.shape)"
      ],
      "execution_count": null,
      "outputs": [
        {
          "name": "stdout",
          "output_type": "stream",
          "text": [
            "[[1]\n",
            " [0]\n",
            " [0]\n",
            " ...\n",
            " [0]\n",
            " [0]\n",
            " [1]]\n",
            "(167931,)\n",
            "(151137, 1)\n"
          ]
        }
      ]
    },
    {
      "cell_type": "markdown",
      "metadata": {
        "id": "Tvr_VT1dKwiU"
      },
      "source": [
        "# USE Model"
      ]
    },
    {
      "cell_type": "code",
      "metadata": {
        "colab": {
          "base_uri": "https://localhost:8080/"
        },
        "id": "-fbQwZ0ILShO",
        "outputId": "0bc5dfab-5c61-4c3b-9d97-1d6642e2cd04"
      },
      "source": [
        "%%time\n",
        "module_url = 'https://tfhub.dev/google/universal-sentence-encoder-large/5'\n",
        "embed = hub.KerasLayer(module_url, trainable=True, name='USE_embedding')"
      ],
      "execution_count": null,
      "outputs": [
        {
          "name": "stdout",
          "output_type": "stream",
          "text": [
            "CPU times: user 17.2 s, sys: 2.94 s, total: 20.1 s\n",
            "Wall time: 24.9 s\n"
          ]
        }
      ]
    },
    {
      "cell_type": "code",
      "metadata": {
        "colab": {
          "base_uri": "https://localhost:8080/"
        },
        "id": "7dmDkjernQvJ",
        "outputId": "8e39b743-bab4-4040-e812-4c39b410a4f7"
      },
      "source": [
        "def get_model(module_url):\n",
        "    model = tf.keras.Sequential([\n",
        "    \n",
        "        hub.KerasLayer(module_url, input_shape=[],dtype=tf.string, trainable=False),\n",
        "        Dense(64, activation='relu'),\n",
        "        Dropout(0.5),\n",
        "        Dense(32, activation='relu'),\n",
        "        Dense(1, activation='sigmoid')\n",
        "    ])\n",
        "    model.compile(optimizer='rmsprop',\n",
        "                loss='binary_crossentropy',\n",
        "                metrics=['accuracy'])\n",
        "    print(model.summary())\n",
        "    return(model)\n",
        "model = get_model(module_url)    "
      ],
      "execution_count": null,
      "outputs": [
        {
          "name": "stdout",
          "output_type": "stream",
          "text": [
            "Model: \"sequential_2\"\n",
            "_________________________________________________________________\n",
            "Layer (type)                 Output Shape              Param #   \n",
            "=================================================================\n",
            "keras_layer_2 (KerasLayer)   (None, 512)               147354880 \n",
            "_________________________________________________________________\n",
            "dense_6 (Dense)              (None, 64)                32832     \n",
            "_________________________________________________________________\n",
            "dropout (Dropout)            (None, 64)                0         \n",
            "_________________________________________________________________\n",
            "dense_7 (Dense)              (None, 32)                2080      \n",
            "_________________________________________________________________\n",
            "dense_8 (Dense)              (None, 1)                 33        \n",
            "=================================================================\n",
            "Total params: 147,389,825\n",
            "Trainable params: 34,945\n",
            "Non-trainable params: 147,354,880\n",
            "_________________________________________________________________\n",
            "None\n"
          ]
        }
      ]
    },
    {
      "cell_type": "code",
      "metadata": {
        "colab": {
          "background_save": true,
          "base_uri": "https://localhost:8080/"
        },
        "id": "3zhL_JNIL33-",
        "outputId": "929ffd6a-7b2d-4afd-925f-28cbd28ab6ce"
      },
      "source": [
        "# checkpoint = ModelCheckpoint('/content/drive/MyDrive/GP_Chatbot_Dataset/models/USE_binary_model.h5', monitor='val_accuracy', save_best_only=True)\n",
        "\n",
        "train_history = model.fit(\n",
        "    X_train, train_labels,\n",
        "    validation_split=0.30,\n",
        "    epochs=10,\n",
        "    # callbacks=[checkpoint],\n",
        "    batch_size = 512\n",
        ")"
      ],
      "execution_count": null,
      "outputs": [
        {
          "name": "stdout",
          "output_type": "stream",
          "text": [
            "Epoch 1/3\n",
            "207/207 [==============================] - 1219s 6s/step - loss: 0.5688 - accuracy: 0.7167 - val_loss: 0.5158 - val_accuracy: 0.7458\n",
            "Epoch 2/3\n",
            "207/207 [==============================] - 1210s 6s/step - loss: 0.4989 - accuracy: 0.7564 - val_loss: 0.5094 - val_accuracy: 0.7479\n",
            "Epoch 3/3\n",
            "207/207 [==============================] - 1211s 6s/step - loss: 0.4750 - accuracy: 0.7727 - val_loss: 0.5161 - val_accuracy: 0.7441\n"
          ]
        }
      ]
    },
    {
      "cell_type": "code",
      "metadata": {
        "colab": {
          "base_uri": "https://localhost:8080/",
          "height": 313
        },
        "id": "-3Jdc71oolS1",
        "outputId": "7b8d9e37-77ad-4e90-892d-10b03992ca4a"
      },
      "source": [
        "import collections\n",
        "import matplotlib.pyplot as plt\n",
        "\n",
        "NB_START_EPOCHS = 10\n",
        "min = optimal_epoch(train_history)\n",
        "eval_metric(model, train_history, 'loss', 'for binary model')\n"
      ],
      "execution_count": null,
      "outputs": [
        {
          "name": "stdout",
          "output_type": "stream",
          "text": [
            "Minimum validation loss reached in epoch 10\n"
          ]
        },
        {
          "data": {
            "image/png": "[encoded data removed]",
            "text/plain": [
              "<Figure size 432x288 with 1 Axes>"
            ]
          },
          "metadata": {
            "tags": []
          },
          "output_type": "display_data"
        }
      ]
    },
    {
      "cell_type": "code",
      "metadata": {
        "id": "Hasq9_xdq3vF"
      },
      "source": [
        "BATCH_SIZE = 512\n",
        "results = test_model(model, X_train, train_labels, X_test, test_labels, min)"
      ],
      "execution_count": null,
      "outputs": []
    },
    {
      "cell_type": "code",
      "metadata": {
        "id": "YeeKThHJC1ym"
      },
      "source": [
        "model = tf.keras.models.load_model('/content/drive/MyDrive/GP_Chatbot_Dataset/models/USE_binary_model.h5' , custom_objects={'KerasLayer': hub.KerasLayer})"
      ],
      "execution_count": null,
      "outputs": []
    },
    {
      "cell_type": "code",
      "metadata": {
        "colab": {
          "base_uri": "https://localhost:8080/"
        },
        "id": "Z7WtQjKmML4u",
        "outputId": "35e02b57-ae8d-4459-9cc3-9fd9d8e19571"
      },
      "source": [
        "import operator\n",
        "input_msg = \"I am happy that you are ok. i wish you are always happy and In good health. i love everything about you you are the best.\"\n",
        "# input_msg = translate(input_msg ,'en')\n",
        "print(input_msg)\n",
        "test_pred = model.predict([str(input_msg)])\n",
        "print(test_pred)\n",
        "\n",
        "if test_pred > 0.5:\n",
        "    print('positive')\n",
        "else:\n",
        "        print('negative')"
      ],
      "execution_count": null,
      "outputs": [
        {
          "name": "stdout",
          "output_type": "stream",
          "text": [
            "I am happy that you are ok. i wish you are always happy and In good health. i love everything about you you are the best.\n",
            "[[0.55122054]]\n",
            "positive\n"
          ]
        }
      ]
    }
  ]
}